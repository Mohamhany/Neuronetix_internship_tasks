{
 "cells": [
  {
   "cell_type": "markdown",
   "id": "fadf8575",
   "metadata": {
    "papermill": {
     "duration": 0.009637,
     "end_time": "2024-08-24T11:49:40.562529",
     "exception": false,
     "start_time": "2024-08-24T11:49:40.552892",
     "status": "completed"
    },
    "tags": []
   },
   "source": [
    "## **Import Needed Libraries**"
   ]
  },
  {
   "cell_type": "code",
   "execution_count": 1,
   "id": "b2606946",
   "metadata": {
    "_cell_guid": "b1076dfc-b9ad-4769-8c92-a6c4dae69d19",
    "_uuid": "8f2839f25d086af736a60e9eeb907d3b93b6e0e5",
    "execution": {
     "iopub.execute_input": "2024-08-24T11:49:40.580839Z",
     "iopub.status.busy": "2024-08-24T11:49:40.580277Z",
     "iopub.status.idle": "2024-08-24T11:49:43.459006Z",
     "shell.execute_reply": "2024-08-24T11:49:43.457581Z"
    },
    "papermill": {
     "duration": 2.89157,
     "end_time": "2024-08-24T11:49:43.462234",
     "exception": false,
     "start_time": "2024-08-24T11:49:40.570664",
     "status": "completed"
    },
    "tags": []
   },
   "outputs": [],
   "source": [
    "import numpy as np\n",
    "import pandas as pd\n",
    "import matplotlib.pyplot as plt\n",
    "import seaborn as sns\n",
    "from sklearn.linear_model import LinearRegression\n",
    "from sklearn.preprocessing import PolynomialFeatures\n",
    "from sklearn.metrics import r2_score"
   ]
  },
  {
   "cell_type": "markdown",
   "id": "5e241b81",
   "metadata": {
    "papermill": {
     "duration": 0.007977,
     "end_time": "2024-08-24T11:49:43.478376",
     "exception": false,
     "start_time": "2024-08-24T11:49:43.470399",
     "status": "completed"
    },
    "tags": []
   },
   "source": [
    "## **Read Data**"
   ]
  },
  {
   "cell_type": "code",
   "execution_count": 2,
   "id": "89a2f29f",
   "metadata": {
    "execution": {
     "iopub.execute_input": "2024-08-24T11:49:43.497181Z",
     "iopub.status.busy": "2024-08-24T11:49:43.496503Z",
     "iopub.status.idle": "2024-08-24T11:49:43.548415Z",
     "shell.execute_reply": "2024-08-24T11:49:43.547184Z"
    },
    "papermill": {
     "duration": 0.064576,
     "end_time": "2024-08-24T11:49:43.551150",
     "exception": false,
     "start_time": "2024-08-24T11:49:43.486574",
     "status": "completed"
    },
    "tags": []
   },
   "outputs": [
    {
     "data": {
      "text/html": [
       "<div>\n",
       "<style scoped>\n",
       "    .dataframe tbody tr th:only-of-type {\n",
       "        vertical-align: middle;\n",
       "    }\n",
       "\n",
       "    .dataframe tbody tr th {\n",
       "        vertical-align: top;\n",
       "    }\n",
       "\n",
       "    .dataframe thead th {\n",
       "        text-align: right;\n",
       "    }\n",
       "</style>\n",
       "<table border=\"1\" class=\"dataframe\">\n",
       "  <thead>\n",
       "    <tr style=\"text-align: right;\">\n",
       "      <th></th>\n",
       "      <th>Position</th>\n",
       "      <th>Level</th>\n",
       "      <th>Salary</th>\n",
       "    </tr>\n",
       "  </thead>\n",
       "  <tbody>\n",
       "    <tr>\n",
       "      <th>0</th>\n",
       "      <td>Teaching Assistants</td>\n",
       "      <td>1</td>\n",
       "      <td>45000</td>\n",
       "    </tr>\n",
       "    <tr>\n",
       "      <th>1</th>\n",
       "      <td>Guest Faculty</td>\n",
       "      <td>2</td>\n",
       "      <td>50000</td>\n",
       "    </tr>\n",
       "    <tr>\n",
       "      <th>2</th>\n",
       "      <td>Contractual Faculty</td>\n",
       "      <td>3</td>\n",
       "      <td>60000</td>\n",
       "    </tr>\n",
       "    <tr>\n",
       "      <th>3</th>\n",
       "      <td>Assistant Professor</td>\n",
       "      <td>4</td>\n",
       "      <td>80000</td>\n",
       "    </tr>\n",
       "    <tr>\n",
       "      <th>4</th>\n",
       "      <td>Associate Professor</td>\n",
       "      <td>5</td>\n",
       "      <td>110000</td>\n",
       "    </tr>\n",
       "    <tr>\n",
       "      <th>5</th>\n",
       "      <td>Professor</td>\n",
       "      <td>6</td>\n",
       "      <td>150000</td>\n",
       "    </tr>\n",
       "    <tr>\n",
       "      <th>6</th>\n",
       "      <td>Associate Dean</td>\n",
       "      <td>7</td>\n",
       "      <td>200000</td>\n",
       "    </tr>\n",
       "    <tr>\n",
       "      <th>7</th>\n",
       "      <td>Dean</td>\n",
       "      <td>8</td>\n",
       "      <td>300000</td>\n",
       "    </tr>\n",
       "    <tr>\n",
       "      <th>8</th>\n",
       "      <td>Vice Chancellor</td>\n",
       "      <td>9</td>\n",
       "      <td>500000</td>\n",
       "    </tr>\n",
       "    <tr>\n",
       "      <th>9</th>\n",
       "      <td>Chancellor</td>\n",
       "      <td>10</td>\n",
       "      <td>1000000</td>\n",
       "    </tr>\n",
       "  </tbody>\n",
       "</table>\n",
       "</div>"
      ],
      "text/plain": [
       "              Position  Level   Salary\n",
       "0  Teaching Assistants      1    45000\n",
       "1        Guest Faculty      2    50000\n",
       "2  Contractual Faculty      3    60000\n",
       "3  Assistant Professor      4    80000\n",
       "4  Associate Professor      5   110000\n",
       "5            Professor      6   150000\n",
       "6       Associate Dean      7   200000\n",
       "7                 Dean      8   300000\n",
       "8      Vice Chancellor      9   500000\n",
       "9           Chancellor     10  1000000"
      ]
     },
     "execution_count": 2,
     "metadata": {},
     "output_type": "execute_result"
    }
   ],
   "source": [
    "df=pd.read_csv('/kaggle/input/polynomial-linear-regression-dataset/rank_salary.csv')\n",
    "df"
   ]
  },
  {
   "cell_type": "code",
   "execution_count": 3,
   "id": "ccd1e45e",
   "metadata": {
    "execution": {
     "iopub.execute_input": "2024-08-24T11:49:43.570441Z",
     "iopub.status.busy": "2024-08-24T11:49:43.569366Z",
     "iopub.status.idle": "2024-08-24T11:49:43.596756Z",
     "shell.execute_reply": "2024-08-24T11:49:43.595230Z"
    },
    "papermill": {
     "duration": 0.039804,
     "end_time": "2024-08-24T11:49:43.599434",
     "exception": false,
     "start_time": "2024-08-24T11:49:43.559630",
     "status": "completed"
    },
    "tags": []
   },
   "outputs": [
    {
     "name": "stdout",
     "output_type": "stream",
     "text": [
      "<class 'pandas.core.frame.DataFrame'>\n",
      "RangeIndex: 10 entries, 0 to 9\n",
      "Data columns (total 3 columns):\n",
      " #   Column    Non-Null Count  Dtype \n",
      "---  ------    --------------  ----- \n",
      " 0   Position  10 non-null     object\n",
      " 1   Level     10 non-null     int64 \n",
      " 2   Salary    10 non-null     int64 \n",
      "dtypes: int64(2), object(1)\n",
      "memory usage: 368.0+ bytes\n"
     ]
    }
   ],
   "source": [
    "df.info()"
   ]
  },
  {
   "cell_type": "code",
   "execution_count": 4,
   "id": "8cd3a165",
   "metadata": {
    "execution": {
     "iopub.execute_input": "2024-08-24T11:49:43.619362Z",
     "iopub.status.busy": "2024-08-24T11:49:43.618862Z",
     "iopub.status.idle": "2024-08-24T11:49:43.643244Z",
     "shell.execute_reply": "2024-08-24T11:49:43.642038Z"
    },
    "papermill": {
     "duration": 0.037356,
     "end_time": "2024-08-24T11:49:43.645746",
     "exception": false,
     "start_time": "2024-08-24T11:49:43.608390",
     "status": "completed"
    },
    "tags": []
   },
   "outputs": [
    {
     "data": {
      "text/html": [
       "<div>\n",
       "<style scoped>\n",
       "    .dataframe tbody tr th:only-of-type {\n",
       "        vertical-align: middle;\n",
       "    }\n",
       "\n",
       "    .dataframe tbody tr th {\n",
       "        vertical-align: top;\n",
       "    }\n",
       "\n",
       "    .dataframe thead th {\n",
       "        text-align: right;\n",
       "    }\n",
       "</style>\n",
       "<table border=\"1\" class=\"dataframe\">\n",
       "  <thead>\n",
       "    <tr style=\"text-align: right;\">\n",
       "      <th></th>\n",
       "      <th>Level</th>\n",
       "      <th>Salary</th>\n",
       "    </tr>\n",
       "  </thead>\n",
       "  <tbody>\n",
       "    <tr>\n",
       "      <th>count</th>\n",
       "      <td>10.00000</td>\n",
       "      <td>10.000000</td>\n",
       "    </tr>\n",
       "    <tr>\n",
       "      <th>mean</th>\n",
       "      <td>5.50000</td>\n",
       "      <td>249500.000000</td>\n",
       "    </tr>\n",
       "    <tr>\n",
       "      <th>std</th>\n",
       "      <td>3.02765</td>\n",
       "      <td>299373.883668</td>\n",
       "    </tr>\n",
       "    <tr>\n",
       "      <th>min</th>\n",
       "      <td>1.00000</td>\n",
       "      <td>45000.000000</td>\n",
       "    </tr>\n",
       "    <tr>\n",
       "      <th>25%</th>\n",
       "      <td>3.25000</td>\n",
       "      <td>65000.000000</td>\n",
       "    </tr>\n",
       "    <tr>\n",
       "      <th>50%</th>\n",
       "      <td>5.50000</td>\n",
       "      <td>130000.000000</td>\n",
       "    </tr>\n",
       "    <tr>\n",
       "      <th>75%</th>\n",
       "      <td>7.75000</td>\n",
       "      <td>275000.000000</td>\n",
       "    </tr>\n",
       "    <tr>\n",
       "      <th>max</th>\n",
       "      <td>10.00000</td>\n",
       "      <td>1000000.000000</td>\n",
       "    </tr>\n",
       "  </tbody>\n",
       "</table>\n",
       "</div>"
      ],
      "text/plain": [
       "          Level          Salary\n",
       "count  10.00000       10.000000\n",
       "mean    5.50000   249500.000000\n",
       "std     3.02765   299373.883668\n",
       "min     1.00000    45000.000000\n",
       "25%     3.25000    65000.000000\n",
       "50%     5.50000   130000.000000\n",
       "75%     7.75000   275000.000000\n",
       "max    10.00000  1000000.000000"
      ]
     },
     "execution_count": 4,
     "metadata": {},
     "output_type": "execute_result"
    }
   ],
   "source": [
    "df.describe()"
   ]
  },
  {
   "cell_type": "code",
   "execution_count": 5,
   "id": "8956a671",
   "metadata": {
    "execution": {
     "iopub.execute_input": "2024-08-24T11:49:43.665519Z",
     "iopub.status.busy": "2024-08-24T11:49:43.665054Z",
     "iopub.status.idle": "2024-08-24T11:49:43.672345Z",
     "shell.execute_reply": "2024-08-24T11:49:43.670672Z"
    },
    "papermill": {
     "duration": 0.020176,
     "end_time": "2024-08-24T11:49:43.674885",
     "exception": false,
     "start_time": "2024-08-24T11:49:43.654709",
     "status": "completed"
    },
    "tags": []
   },
   "outputs": [],
   "source": [
    "df.drop(columns=['Position'],inplace=True)"
   ]
  },
  {
   "cell_type": "markdown",
   "id": "d4199bee",
   "metadata": {
    "papermill": {
     "duration": 0.008622,
     "end_time": "2024-08-24T11:49:43.692234",
     "exception": false,
     "start_time": "2024-08-24T11:49:43.683612",
     "status": "completed"
    },
    "tags": []
   },
   "source": [
    "## **Visulize**"
   ]
  },
  {
   "cell_type": "code",
   "execution_count": 6,
   "id": "1ce84aba",
   "metadata": {
    "execution": {
     "iopub.execute_input": "2024-08-24T11:49:43.711773Z",
     "iopub.status.busy": "2024-08-24T11:49:43.711316Z",
     "iopub.status.idle": "2024-08-24T11:49:44.032730Z",
     "shell.execute_reply": "2024-08-24T11:49:44.031242Z"
    },
    "papermill": {
     "duration": 0.334722,
     "end_time": "2024-08-24T11:49:44.035773",
     "exception": false,
     "start_time": "2024-08-24T11:49:43.701051",
     "status": "completed"
    },
    "tags": []
   },
   "outputs": [
    {
     "data": {
      "text/plain": [
       "<matplotlib.collections.PathCollection at 0x791840c8de40>"
      ]
     },
     "execution_count": 6,
     "metadata": {},
     "output_type": "execute_result"
    },
    {
     "data": {
      "image/png": "[encoded data removed]",
      "text/plain": [
       "<Figure size 640x480 with 1 Axes>"
      ]
     },
     "metadata": {},
     "output_type": "display_data"
    }
   ],
   "source": [
    "plt.scatter(df['Level'],df['Salary'])"
   ]
  },
  {
   "cell_type": "code",
   "execution_count": 7,
   "id": "269807d0",
   "metadata": {
    "execution": {
     "iopub.execute_input": "2024-08-24T11:49:44.055880Z",
     "iopub.status.busy": "2024-08-24T11:49:44.055457Z",
     "iopub.status.idle": "2024-08-24T11:49:44.332319Z",
     "shell.execute_reply": "2024-08-24T11:49:44.330924Z"
    },
    "papermill": {
     "duration": 0.290384,
     "end_time": "2024-08-24T11:49:44.335314",
     "exception": false,
     "start_time": "2024-08-24T11:49:44.044930",
     "status": "completed"
    },
    "tags": []
   },
   "outputs": [
    {
     "data": {
      "image/png": "[encoded data removed]",
      "text/plain": [
       "<Figure size 1200x600 with 2 Axes>"
      ]
     },
     "metadata": {},
     "output_type": "display_data"
    }
   ],
   "source": [
    "plt.figure(figsize=(12,6))\n",
    "sns.heatmap(df.corr(),annot=True)\n",
    "plt.show()"
   ]
  },
  {
   "cell_type": "markdown",
   "id": "fb85a578",
   "metadata": {
    "papermill": {
     "duration": 0.00938,
     "end_time": "2024-08-24T11:49:44.355144",
     "exception": false,
     "start_time": "2024-08-24T11:49:44.345764",
     "status": "completed"
    },
    "tags": []
   },
   "source": [
    "## define feature and Target"
   ]
  },
  {
   "cell_type": "markdown",
   "id": "463ba021",
   "metadata": {
    "papermill": {
     "duration": 0.009214,
     "end_time": "2024-08-24T11:49:44.373939",
     "exception": false,
     "start_time": "2024-08-24T11:49:44.364725",
     "status": "completed"
    },
    "tags": []
   },
   "source": [
    "### split data"
   ]
  },
  {
   "cell_type": "code",
   "execution_count": 8,
   "id": "66353e83",
   "metadata": {
    "execution": {
     "iopub.execute_input": "2024-08-24T11:49:44.395379Z",
     "iopub.status.busy": "2024-08-24T11:49:44.394843Z",
     "iopub.status.idle": "2024-08-24T11:49:44.402878Z",
     "shell.execute_reply": "2024-08-24T11:49:44.401412Z"
    },
    "papermill": {
     "duration": 0.022197,
     "end_time": "2024-08-24T11:49:44.405769",
     "exception": false,
     "start_time": "2024-08-24T11:49:44.383572",
     "status": "completed"
    },
    "tags": []
   },
   "outputs": [],
   "source": [
    "x=df[['Level']]\n",
    "y=df[['Salary']]"
   ]
  },
  {
   "cell_type": "markdown",
   "id": "a7f3a63f",
   "metadata": {
    "papermill": {
     "duration": 0.009233,
     "end_time": "2024-08-24T11:49:44.424546",
     "exception": false,
     "start_time": "2024-08-24T11:49:44.415313",
     "status": "completed"
    },
    "tags": []
   },
   "source": [
    "## **Bulid Model**"
   ]
  },
  {
   "cell_type": "code",
   "execution_count": 9,
   "id": "b7d8f6ba",
   "metadata": {
    "execution": {
     "iopub.execute_input": "2024-08-24T11:49:44.446079Z",
     "iopub.status.busy": "2024-08-24T11:49:44.445051Z",
     "iopub.status.idle": "2024-08-24T11:49:44.469183Z",
     "shell.execute_reply": "2024-08-24T11:49:44.467883Z"
    },
    "papermill": {
     "duration": 0.037973,
     "end_time": "2024-08-24T11:49:44.472138",
     "exception": false,
     "start_time": "2024-08-24T11:49:44.434165",
     "status": "completed"
    },
    "tags": []
   },
   "outputs": [
    {
     "data": {
      "text/html": [
       "<style>#sk-container-id-1 {color: black;background-color: white;}#sk-container-id-1 pre{padding: 0;}#sk-container-id-1 div.sk-toggleable {background-color: white;}#sk-container-id-1 label.sk-toggleable__label {cursor: pointer;display: block;width: 100%;margin-bottom: 0;padding: 0.3em;box-sizing: border-box;text-align: center;}#sk-container-id-1 label.sk-toggleable__label-arrow:before {content: \"▸\";float: left;margin-right: 0.25em;color: #696969;}#sk-container-id-1 label.sk-toggleable__label-arrow:hover:before {color: black;}#sk-container-id-1 div.sk-estimator:hover label.sk-toggleable__label-arrow:before {color: black;}#sk-container-id-1 div.sk-toggleable__content {max-height: 0;max-width: 0;overflow: hidden;text-align: left;background-color: #f0f8ff;}#sk-container-id-1 div.sk-toggleable__content pre {margin: 0.2em;color: black;border-radius: 0.25em;background-color: #f0f8ff;}#sk-container-id-1 input.sk-toggleable__control:checked~div.sk-toggleable__content {max-height: 200px;max-width: 100%;overflow: auto;}#sk-container-id-1 input.sk-toggleable__control:checked~label.sk-toggleable__label-arrow:before {content: \"▾\";}#sk-container-id-1 div.sk-estimator input.sk-toggleable__control:checked~label.sk-toggleable__label {background-color: #d4ebff;}#sk-container-id-1 div.sk-label input.sk-toggleable__control:checked~label.sk-toggleable__label {background-color: #d4ebff;}#sk-container-id-1 input.sk-hidden--visually {border: 0;clip: rect(1px 1px 1px 1px);clip: rect(1px, 1px, 1px, 1px);height: 1px;margin: -1px;overflow: hidden;padding: 0;position: absolute;width: 1px;}#sk-container-id-1 div.sk-estimator {font-family: monospace;background-color: #f0f8ff;border: 1px dotted black;border-radius: 0.25em;box-sizing: border-box;margin-bottom: 0.5em;}#sk-container-id-1 div.sk-estimator:hover {background-color: #d4ebff;}#sk-container-id-1 div.sk-parallel-item::after {content: \"\";width: 100%;border-bottom: 1px solid gray;flex-grow: 1;}#sk-container-id-1 div.sk-label:hover label.sk-toggleable__label {background-color: #d4ebff;}#sk-container-id-1 div.sk-serial::before {content: \"\";position: absolute;border-left: 1px solid gray;box-sizing: border-box;top: 0;bottom: 0;left: 50%;z-index: 0;}#sk-container-id-1 div.sk-serial {display: flex;flex-direction: column;align-items: center;background-color: white;padding-right: 0.2em;padding-left: 0.2em;position: relative;}#sk-container-id-1 div.sk-item {position: relative;z-index: 1;}#sk-container-id-1 div.sk-parallel {display: flex;align-items: stretch;justify-content: center;background-color: white;position: relative;}#sk-container-id-1 div.sk-item::before, #sk-container-id-1 div.sk-parallel-item::before {content: \"\";position: absolute;border-left: 1px solid gray;box-sizing: border-box;top: 0;bottom: 0;left: 50%;z-index: -1;}#sk-container-id-1 div.sk-parallel-item {display: flex;flex-direction: column;z-index: 1;position: relative;background-color: white;}#sk-container-id-1 div.sk-parallel-item:first-child::after {align-self: flex-end;width: 50%;}#sk-container-id-1 div.sk-parallel-item:last-child::after {align-self: flex-start;width: 50%;}#sk-container-id-1 div.sk-parallel-item:only-child::after {width: 0;}#sk-container-id-1 div.sk-dashed-wrapped {border: 1px dashed gray;margin: 0 0.4em 0.5em 0.4em;box-sizing: border-box;padding-bottom: 0.4em;background-color: white;}#sk-container-id-1 div.sk-label label {font-family: monospace;font-weight: bold;display: inline-block;line-height: 1.2em;}#sk-container-id-1 div.sk-label-container {text-align: center;}#sk-container-id-1 div.sk-container {/* jupyter's `normalize.less` sets `[hidden] { display: none; }` but bootstrap.min.css set `[hidden] { display: none !important; }` so we also need the `!important` here to be able to override the default hidden behavior on the sphinx rendered scikit-learn.org. See: https://github.com/scikit-learn/scikit-learn/issues/21755 */display: inline-block !important;position: relative;}#sk-container-id-1 div.sk-text-repr-fallback {display: none;}</style><div id=\"sk-container-id-1\" class=\"sk-top-container\"><div class=\"sk-text-repr-fallback\"><pre>LinearRegression()</pre><b>In a Jupyter environment, please rerun this cell to show the HTML representation or trust the notebook. <br />On GitHub, the HTML representation is unable to render, please try loading this page with nbviewer.org.</b></div><div class=\"sk-container\" hidden><div class=\"sk-item\"><div class=\"sk-estimator sk-toggleable\"><input class=\"sk-toggleable__control sk-hidden--visually\" id=\"sk-estimator-id-1\" type=\"checkbox\" checked><label for=\"sk-estimator-id-1\" class=\"sk-toggleable__label sk-toggleable__label-arrow\">LinearRegression</label><div class=\"sk-toggleable__content\"><pre>LinearRegression()</pre></div></div></div></div></div>"
      ],
      "text/plain": [
       "LinearRegression()"
      ]
     },
     "execution_count": 9,
     "metadata": {},
     "output_type": "execute_result"
    }
   ],
   "source": [
    "LR=LinearRegression()\n",
    "LR.fit(x,y)"
   ]
  },
  {
   "cell_type": "code",
   "execution_count": 10,
   "id": "29df1c0e",
   "metadata": {
    "execution": {
     "iopub.execute_input": "2024-08-24T11:49:44.495166Z",
     "iopub.status.busy": "2024-08-24T11:49:44.494669Z",
     "iopub.status.idle": "2024-08-24T11:49:44.502668Z",
     "shell.execute_reply": "2024-08-24T11:49:44.501412Z"
    },
    "papermill": {
     "duration": 0.022814,
     "end_time": "2024-08-24T11:49:44.505368",
     "exception": false,
     "start_time": "2024-08-24T11:49:44.482554",
     "status": "completed"
    },
    "tags": []
   },
   "outputs": [
    {
     "data": {
      "text/plain": [
       "array([[80878.78787879]])"
      ]
     },
     "execution_count": 10,
     "metadata": {},
     "output_type": "execute_result"
    }
   ],
   "source": [
    "LR.coef_"
   ]
  },
  {
   "cell_type": "code",
   "execution_count": 11,
   "id": "d7bbd608",
   "metadata": {
    "execution": {
     "iopub.execute_input": "2024-08-24T11:49:44.527945Z",
     "iopub.status.busy": "2024-08-24T11:49:44.527459Z",
     "iopub.status.idle": "2024-08-24T11:49:44.535820Z",
     "shell.execute_reply": "2024-08-24T11:49:44.534513Z"
    },
    "papermill": {
     "duration": 0.02296,
     "end_time": "2024-08-24T11:49:44.538514",
     "exception": false,
     "start_time": "2024-08-24T11:49:44.515554",
     "status": "completed"
    },
    "tags": []
   },
   "outputs": [
    {
     "data": {
      "text/plain": [
       "array([-195333.33333333])"
      ]
     },
     "execution_count": 11,
     "metadata": {},
     "output_type": "execute_result"
    }
   ],
   "source": [
    "LR.intercept_"
   ]
  },
  {
   "cell_type": "code",
   "execution_count": 12,
   "id": "a17425cc",
   "metadata": {
    "execution": {
     "iopub.execute_input": "2024-08-24T11:49:44.561084Z",
     "iopub.status.busy": "2024-08-24T11:49:44.560573Z",
     "iopub.status.idle": "2024-08-24T11:49:44.567761Z",
     "shell.execute_reply": "2024-08-24T11:49:44.566645Z"
    },
    "papermill": {
     "duration": 0.021542,
     "end_time": "2024-08-24T11:49:44.570365",
     "exception": false,
     "start_time": "2024-08-24T11:49:44.548823",
     "status": "completed"
    },
    "tags": []
   },
   "outputs": [],
   "source": [
    "y_pre=LR.predict(x)"
   ]
  },
  {
   "cell_type": "code",
   "execution_count": 13,
   "id": "69668153",
   "metadata": {
    "execution": {
     "iopub.execute_input": "2024-08-24T11:49:44.593550Z",
     "iopub.status.busy": "2024-08-24T11:49:44.593133Z",
     "iopub.status.idle": "2024-08-24T11:49:44.601115Z",
     "shell.execute_reply": "2024-08-24T11:49:44.599825Z"
    },
    "papermill": {
     "duration": 0.023039,
     "end_time": "2024-08-24T11:49:44.604291",
     "exception": false,
     "start_time": "2024-08-24T11:49:44.581252",
     "status": "completed"
    },
    "tags": []
   },
   "outputs": [
    {
     "name": "stdout",
     "output_type": "stream",
     "text": [
      "0.6690412331929895\n"
     ]
    }
   ],
   "source": [
    "print(r2_score(y,y_pre))"
   ]
  },
  {
   "cell_type": "code",
   "execution_count": 14,
   "id": "9451a7f4",
   "metadata": {
    "execution": {
     "iopub.execute_input": "2024-08-24T11:49:44.628042Z",
     "iopub.status.busy": "2024-08-24T11:49:44.626833Z",
     "iopub.status.idle": "2024-08-24T11:49:44.862689Z",
     "shell.execute_reply": "2024-08-24T11:49:44.861554Z"
    },
    "papermill": {
     "duration": 0.250813,
     "end_time": "2024-08-24T11:49:44.865708",
     "exception": false,
     "start_time": "2024-08-24T11:49:44.614895",
     "status": "completed"
    },
    "tags": []
   },
   "outputs": [
    {
     "data": {
      "image/png": "[encoded data removed]",
      "text/plain": [
       "<Figure size 640x480 with 1 Axes>"
      ]
     },
     "metadata": {},
     "output_type": "display_data"
    }
   ],
   "source": [
    "plt.scatter(x,y,color='g')\n",
    "plt.plot(x,y_pre,color='b')\n",
    "plt.title(\"Linear Regression\")\n",
    "plt.xlabel(\"Levels\")\n",
    "plt.ylabel(\"Salary\")\n",
    "plt.show()"
   ]
  },
  {
   "cell_type": "markdown",
   "id": "aad5ce7d",
   "metadata": {
    "papermill": {
     "duration": 0.012041,
     "end_time": "2024-08-24T11:49:44.888675",
     "exception": false,
     "start_time": "2024-08-24T11:49:44.876634",
     "status": "completed"
    },
    "tags": []
   },
   "source": [
    "## **polynomial Regression**"
   ]
  },
  {
   "cell_type": "code",
   "execution_count": 15,
   "id": "fe8d66e3",
   "metadata": {
    "execution": {
     "iopub.execute_input": "2024-08-24T11:49:44.912609Z",
     "iopub.status.busy": "2024-08-24T11:49:44.912161Z",
     "iopub.status.idle": "2024-08-24T11:49:44.935179Z",
     "shell.execute_reply": "2024-08-24T11:49:44.933811Z"
    },
    "papermill": {
     "duration": 0.037873,
     "end_time": "2024-08-24T11:49:44.937685",
     "exception": false,
     "start_time": "2024-08-24T11:49:44.899812",
     "status": "completed"
    },
    "tags": []
   },
   "outputs": [
    {
     "data": {
      "text/html": [
       "<style>#sk-container-id-2 {color: black;background-color: white;}#sk-container-id-2 pre{padding: 0;}#sk-container-id-2 div.sk-toggleable {background-color: white;}#sk-container-id-2 label.sk-toggleable__label {cursor: pointer;display: block;width: 100%;margin-bottom: 0;padding: 0.3em;box-sizing: border-box;text-align: center;}#sk-container-id-2 label.sk-toggleable__label-arrow:before {content: \"▸\";float: left;margin-right: 0.25em;color: #696969;}#sk-container-id-2 label.sk-toggleable__label-arrow:hover:before {color: black;}#sk-container-id-2 div.sk-estimator:hover label.sk-toggleable__label-arrow:before {color: black;}#sk-container-id-2 div.sk-toggleable__content {max-height: 0;max-width: 0;overflow: hidden;text-align: left;background-color: #f0f8ff;}#sk-container-id-2 div.sk-toggleable__content pre {margin: 0.2em;color: black;border-radius: 0.25em;background-color: #f0f8ff;}#sk-container-id-2 input.sk-toggleable__control:checked~div.sk-toggleable__content {max-height: 200px;max-width: 100%;overflow: auto;}#sk-container-id-2 input.sk-toggleable__control:checked~label.sk-toggleable__label-arrow:before {content: \"▾\";}#sk-container-id-2 div.sk-estimator input.sk-toggleable__control:checked~label.sk-toggleable__label {background-color: #d4ebff;}#sk-container-id-2 div.sk-label input.sk-toggleable__control:checked~label.sk-toggleable__label {background-color: #d4ebff;}#sk-container-id-2 input.sk-hidden--visually {border: 0;clip: rect(1px 1px 1px 1px);clip: rect(1px, 1px, 1px, 1px);height: 1px;margin: -1px;overflow: hidden;padding: 0;position: absolute;width: 1px;}#sk-container-id-2 div.sk-estimator {font-family: monospace;background-color: #f0f8ff;border: 1px dotted black;border-radius: 0.25em;box-sizing: border-box;margin-bottom: 0.5em;}#sk-container-id-2 div.sk-estimator:hover {background-color: #d4ebff;}#sk-container-id-2 div.sk-parallel-item::after {content: \"\";width: 100%;border-bottom: 1px solid gray;flex-grow: 1;}#sk-container-id-2 div.sk-label:hover label.sk-toggleable__label {background-color: #d4ebff;}#sk-container-id-2 div.sk-serial::before {content: \"\";position: absolute;border-left: 1px solid gray;box-sizing: border-box;top: 0;bottom: 0;left: 50%;z-index: 0;}#sk-container-id-2 div.sk-serial {display: flex;flex-direction: column;align-items: center;background-color: white;padding-right: 0.2em;padding-left: 0.2em;position: relative;}#sk-container-id-2 div.sk-item {position: relative;z-index: 1;}#sk-container-id-2 div.sk-parallel {display: flex;align-items: stretch;justify-content: center;background-color: white;position: relative;}#sk-container-id-2 div.sk-item::before, #sk-container-id-2 div.sk-parallel-item::before {content: \"\";position: absolute;border-left: 1px solid gray;box-sizing: border-box;top: 0;bottom: 0;left: 50%;z-index: -1;}#sk-container-id-2 div.sk-parallel-item {display: flex;flex-direction: column;z-index: 1;position: relative;background-color: white;}#sk-container-id-2 div.sk-parallel-item:first-child::after {align-self: flex-end;width: 50%;}#sk-container-id-2 div.sk-parallel-item:last-child::after {align-self: flex-start;width: 50%;}#sk-container-id-2 div.sk-parallel-item:only-child::after {width: 0;}#sk-container-id-2 div.sk-dashed-wrapped {border: 1px dashed gray;margin: 0 0.4em 0.5em 0.4em;box-sizing: border-box;padding-bottom: 0.4em;background-color: white;}#sk-container-id-2 div.sk-label label {font-family: monospace;font-weight: bold;display: inline-block;line-height: 1.2em;}#sk-container-id-2 div.sk-label-container {text-align: center;}#sk-container-id-2 div.sk-container {/* jupyter's `normalize.less` sets `[hidden] { display: none; }` but bootstrap.min.css set `[hidden] { display: none !important; }` so we also need the `!important` here to be able to override the default hidden behavior on the sphinx rendered scikit-learn.org. See: https://github.com/scikit-learn/scikit-learn/issues/21755 */display: inline-block !important;position: relative;}#sk-container-id-2 div.sk-text-repr-fallback {display: none;}</style><div id=\"sk-container-id-2\" class=\"sk-top-container\"><div class=\"sk-text-repr-fallback\"><pre>LinearRegression()</pre><b>In a Jupyter environment, please rerun this cell to show the HTML representation or trust the notebook. <br />On GitHub, the HTML representation is unable to render, please try loading this page with nbviewer.org.</b></div><div class=\"sk-container\" hidden><div class=\"sk-item\"><div class=\"sk-estimator sk-toggleable\"><input class=\"sk-toggleable__control sk-hidden--visually\" id=\"sk-estimator-id-2\" type=\"checkbox\" checked><label for=\"sk-estimator-id-2\" class=\"sk-toggleable__label sk-toggleable__label-arrow\">LinearRegression</label><div class=\"sk-toggleable__content\"><pre>LinearRegression()</pre></div></div></div></div></div>"
      ],
      "text/plain": [
       "LinearRegression()"
      ]
     },
     "execution_count": 15,
     "metadata": {},
     "output_type": "execute_result"
    }
   ],
   "source": [
    "PR=PolynomialFeatures(degree=3)\n",
    "x_poly=PR.fit_transform(x)\n",
    "LR.fit(x_poly,y)"
   ]
  },
  {
   "cell_type": "code",
   "execution_count": 16,
   "id": "4e713444",
   "metadata": {
    "execution": {
     "iopub.execute_input": "2024-08-24T11:49:44.962187Z",
     "iopub.status.busy": "2024-08-24T11:49:44.961691Z",
     "iopub.status.idle": "2024-08-24T11:49:44.967768Z",
     "shell.execute_reply": "2024-08-24T11:49:44.966485Z"
    },
    "papermill": {
     "duration": 0.021717,
     "end_time": "2024-08-24T11:49:44.970535",
     "exception": false,
     "start_time": "2024-08-24T11:49:44.948818",
     "status": "completed"
    },
    "tags": []
   },
   "outputs": [],
   "source": [
    "y_pred=LR.predict(x_poly)"
   ]
  },
  {
   "cell_type": "code",
   "execution_count": 17,
   "id": "179363a1",
   "metadata": {
    "execution": {
     "iopub.execute_input": "2024-08-24T11:49:44.995285Z",
     "iopub.status.busy": "2024-08-24T11:49:44.994119Z",
     "iopub.status.idle": "2024-08-24T11:49:45.003518Z",
     "shell.execute_reply": "2024-08-24T11:49:45.001435Z"
    },
    "papermill": {
     "duration": 0.026616,
     "end_time": "2024-08-24T11:49:45.008290",
     "exception": false,
     "start_time": "2024-08-24T11:49:44.981674",
     "status": "completed"
    },
    "tags": []
   },
   "outputs": [
    {
     "name": "stdout",
     "output_type": "stream",
     "text": [
      "0.9812097727913366\n"
     ]
    }
   ],
   "source": [
    "print(r2_score(y,y_pred))"
   ]
  },
  {
   "cell_type": "code",
   "execution_count": 18,
   "id": "bdd46d2a",
   "metadata": {
    "execution": {
     "iopub.execute_input": "2024-08-24T11:49:45.036839Z",
     "iopub.status.busy": "2024-08-24T11:49:45.036356Z",
     "iopub.status.idle": "2024-08-24T11:49:45.345395Z",
     "shell.execute_reply": "2024-08-24T11:49:45.343826Z"
    },
    "papermill": {
     "duration": 0.32692,
     "end_time": "2024-08-24T11:49:45.348442",
     "exception": false,
     "start_time": "2024-08-24T11:49:45.021522",
     "status": "completed"
    },
    "tags": []
   },
   "outputs": [
    {
     "data": {
      "image/png": "[encoded data removed]",
      "text/plain": [
       "<Figure size 640x480 with 1 Axes>"
      ]
     },
     "metadata": {},
     "output_type": "display_data"
    }
   ],
   "source": [
    "plt.scatter(x,y,color='g')\n",
    "plt.plot(x,y_pred,color='b')\n",
    "plt.title(\"Polynomial Regression\")\n",
    "plt.xlabel(\"Levels\")\n",
    "plt.ylabel(\"Salary\")\n",
    "plt.show()"
   ]
  }
 ],
 "metadata": {
  "kaggle": {
   "accelerator": "none",
   "dataSources": [
    {
     "datasetId": 847201,
     "sourceId": 1445402,
     "sourceType": "datasetVersion"
    }
   ],
   "dockerImageVersionId": 30761,
   "isGpuEnabled": false,
   "isInternetEnabled": true,
   "language": "python",
   "sourceType": "notebook"
  },
  "kernelspec": {
   "display_name": "Python 3",
   "language": "python",
   "name": "python3"
  },
  "language_info": {
   "codemirror_mode": {
    "name": "ipython",
    "version": 3
   },
   "file_extension": ".py",
   "mimetype": "text/x-python",
   "name": "python",
   "nbconvert_exporter": "python",
   "pygments_lexer": "ipython3",
   "version": "3.10.14"
  },
  "papermill": {
   "default_parameters": {},
   "duration": 8.665109,
   "end_time": "2024-08-24T11:49:46.086227",
   "environment_variables": {},
   "exception": null,
   "input_path": "__notebook__.ipynb",
   "output_path": "__notebook__.ipynb",
   "parameters": {},
   "start_time": "2024-08-24T11:49:37.421118",
   "version": "2.6.0"
  }
 },
 "nbformat": 4,
 "nbformat_minor": 5
}

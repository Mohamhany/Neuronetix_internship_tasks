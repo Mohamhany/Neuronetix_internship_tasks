{
 "cells": [
  {
   "cell_type": "markdown",
   "id": "7d7678bd",
   "metadata": {
    "papermill": {
     "duration": 0.00733,
     "end_time": "2024-08-23T22:19:09.734097",
     "exception": false,
     "start_time": "2024-08-23T22:19:09.726767",
     "status": "completed"
    },
    "tags": []
   },
   "source": [
    "## **Import Needed Libraries**"
   ]
  },
  {
   "cell_type": "code",
   "execution_count": 1,
   "id": "4815c9cc",
   "metadata": {
    "_cell_guid": "b1076dfc-b9ad-4769-8c92-a6c4dae69d19",
    "_uuid": "8f2839f25d086af736a60e9eeb907d3b93b6e0e5",
    "execution": {
     "iopub.execute_input": "2024-08-23T22:19:09.749753Z",
     "iopub.status.busy": "2024-08-23T22:19:09.749261Z",
     "iopub.status.idle": "2024-08-23T22:19:12.764932Z",
     "shell.execute_reply": "2024-08-23T22:19:12.763634Z"
    },
    "papermill": {
     "duration": 3.0269,
     "end_time": "2024-08-23T22:19:12.767899",
     "exception": false,
     "start_time": "2024-08-23T22:19:09.740999",
     "status": "completed"
    },
    "tags": []
   },
   "outputs": [],
   "source": [
    "import numpy as np\n",
    "import pandas as pd\n",
    "import matplotlib.pyplot as plt\n",
    "import seaborn as sns\n",
    "from sklearn.linear_model import LinearRegression\n",
    "from sklearn.metrics import r2_score"
   ]
  },
  {
   "cell_type": "markdown",
   "id": "3cba4a60",
   "metadata": {
    "papermill": {
     "duration": 0.006374,
     "end_time": "2024-08-23T22:19:12.781237",
     "exception": false,
     "start_time": "2024-08-23T22:19:12.774863",
     "status": "completed"
    },
    "tags": []
   },
   "source": [
    "## **Read Data**"
   ]
  },
  {
   "cell_type": "code",
   "execution_count": 2,
   "id": "073480bd",
   "metadata": {
    "execution": {
     "iopub.execute_input": "2024-08-23T22:19:12.796427Z",
     "iopub.status.busy": "2024-08-23T22:19:12.795807Z",
     "iopub.status.idle": "2024-08-23T22:19:12.838784Z",
     "shell.execute_reply": "2024-08-23T22:19:12.837664Z"
    },
    "papermill": {
     "duration": 0.053538,
     "end_time": "2024-08-23T22:19:12.841318",
     "exception": false,
     "start_time": "2024-08-23T22:19:12.787780",
     "status": "completed"
    },
    "tags": []
   },
   "outputs": [
    {
     "data": {
      "text/html": [
       "<div>\n",
       "<style scoped>\n",
       "    .dataframe tbody tr th:only-of-type {\n",
       "        vertical-align: middle;\n",
       "    }\n",
       "\n",
       "    .dataframe tbody tr th {\n",
       "        vertical-align: top;\n",
       "    }\n",
       "\n",
       "    .dataframe thead th {\n",
       "        text-align: right;\n",
       "    }\n",
       "</style>\n",
       "<table border=\"1\" class=\"dataframe\">\n",
       "  <thead>\n",
       "    <tr style=\"text-align: right;\">\n",
       "      <th></th>\n",
       "      <th>Unnamed: 0</th>\n",
       "      <th>YearsExperience</th>\n",
       "      <th>Salary</th>\n",
       "    </tr>\n",
       "  </thead>\n",
       "  <tbody>\n",
       "    <tr>\n",
       "      <th>0</th>\n",
       "      <td>0</td>\n",
       "      <td>1.2</td>\n",
       "      <td>39344.0</td>\n",
       "    </tr>\n",
       "    <tr>\n",
       "      <th>1</th>\n",
       "      <td>1</td>\n",
       "      <td>1.4</td>\n",
       "      <td>46206.0</td>\n",
       "    </tr>\n",
       "    <tr>\n",
       "      <th>2</th>\n",
       "      <td>2</td>\n",
       "      <td>1.6</td>\n",
       "      <td>37732.0</td>\n",
       "    </tr>\n",
       "    <tr>\n",
       "      <th>3</th>\n",
       "      <td>3</td>\n",
       "      <td>2.1</td>\n",
       "      <td>43526.0</td>\n",
       "    </tr>\n",
       "    <tr>\n",
       "      <th>4</th>\n",
       "      <td>4</td>\n",
       "      <td>2.3</td>\n",
       "      <td>39892.0</td>\n",
       "    </tr>\n",
       "  </tbody>\n",
       "</table>\n",
       "</div>"
      ],
      "text/plain": [
       "   Unnamed: 0  YearsExperience   Salary\n",
       "0           0              1.2  39344.0\n",
       "1           1              1.4  46206.0\n",
       "2           2              1.6  37732.0\n",
       "3           3              2.1  43526.0\n",
       "4           4              2.3  39892.0"
      ]
     },
     "execution_count": 2,
     "metadata": {},
     "output_type": "execute_result"
    }
   ],
   "source": [
    "salary=pd.read_csv('/kaggle/input/salary-dataset-simple-linear-regression/Salary_dataset.csv')\n",
    "salary.head()"
   ]
  },
  {
   "cell_type": "code",
   "execution_count": 3,
   "id": "f50f1caa",
   "metadata": {
    "execution": {
     "iopub.execute_input": "2024-08-23T22:19:12.857243Z",
     "iopub.status.busy": "2024-08-23T22:19:12.856762Z",
     "iopub.status.idle": "2024-08-23T22:19:12.866395Z",
     "shell.execute_reply": "2024-08-23T22:19:12.864816Z"
    },
    "papermill": {
     "duration": 0.020345,
     "end_time": "2024-08-23T22:19:12.868814",
     "exception": false,
     "start_time": "2024-08-23T22:19:12.848469",
     "status": "completed"
    },
    "tags": []
   },
   "outputs": [],
   "source": [
    "salary.set_index(\"Unnamed: 0\",inplace=True)"
   ]
  },
  {
   "cell_type": "code",
   "execution_count": 4,
   "id": "6da71373",
   "metadata": {
    "execution": {
     "iopub.execute_input": "2024-08-23T22:19:12.884833Z",
     "iopub.status.busy": "2024-08-23T22:19:12.884377Z",
     "iopub.status.idle": "2024-08-23T22:19:12.897099Z",
     "shell.execute_reply": "2024-08-23T22:19:12.895939Z"
    },
    "papermill": {
     "duration": 0.023837,
     "end_time": "2024-08-23T22:19:12.899611",
     "exception": false,
     "start_time": "2024-08-23T22:19:12.875774",
     "status": "completed"
    },
    "tags": []
   },
   "outputs": [
    {
     "data": {
      "text/html": [
       "<div>\n",
       "<style scoped>\n",
       "    .dataframe tbody tr th:only-of-type {\n",
       "        vertical-align: middle;\n",
       "    }\n",
       "\n",
       "    .dataframe tbody tr th {\n",
       "        vertical-align: top;\n",
       "    }\n",
       "\n",
       "    .dataframe thead th {\n",
       "        text-align: right;\n",
       "    }\n",
       "</style>\n",
       "<table border=\"1\" class=\"dataframe\">\n",
       "  <thead>\n",
       "    <tr style=\"text-align: right;\">\n",
       "      <th></th>\n",
       "      <th>YearsExperience</th>\n",
       "      <th>Salary</th>\n",
       "    </tr>\n",
       "    <tr>\n",
       "      <th>Unnamed: 0</th>\n",
       "      <th></th>\n",
       "      <th></th>\n",
       "    </tr>\n",
       "  </thead>\n",
       "  <tbody>\n",
       "    <tr>\n",
       "      <th>0</th>\n",
       "      <td>1.2</td>\n",
       "      <td>39344.0</td>\n",
       "    </tr>\n",
       "    <tr>\n",
       "      <th>1</th>\n",
       "      <td>1.4</td>\n",
       "      <td>46206.0</td>\n",
       "    </tr>\n",
       "    <tr>\n",
       "      <th>2</th>\n",
       "      <td>1.6</td>\n",
       "      <td>37732.0</td>\n",
       "    </tr>\n",
       "    <tr>\n",
       "      <th>3</th>\n",
       "      <td>2.1</td>\n",
       "      <td>43526.0</td>\n",
       "    </tr>\n",
       "    <tr>\n",
       "      <th>4</th>\n",
       "      <td>2.3</td>\n",
       "      <td>39892.0</td>\n",
       "    </tr>\n",
       "  </tbody>\n",
       "</table>\n",
       "</div>"
      ],
      "text/plain": [
       "            YearsExperience   Salary\n",
       "Unnamed: 0                          \n",
       "0                       1.2  39344.0\n",
       "1                       1.4  46206.0\n",
       "2                       1.6  37732.0\n",
       "3                       2.1  43526.0\n",
       "4                       2.3  39892.0"
      ]
     },
     "execution_count": 4,
     "metadata": {},
     "output_type": "execute_result"
    }
   ],
   "source": [
    "salary.head()"
   ]
  },
  {
   "cell_type": "code",
   "execution_count": 5,
   "id": "57d3dc8c",
   "metadata": {
    "execution": {
     "iopub.execute_input": "2024-08-23T22:19:12.915968Z",
     "iopub.status.busy": "2024-08-23T22:19:12.915181Z",
     "iopub.status.idle": "2024-08-23T22:19:12.937820Z",
     "shell.execute_reply": "2024-08-23T22:19:12.936485Z"
    },
    "papermill": {
     "duration": 0.034272,
     "end_time": "2024-08-23T22:19:12.941035",
     "exception": false,
     "start_time": "2024-08-23T22:19:12.906763",
     "status": "completed"
    },
    "tags": []
   },
   "outputs": [
    {
     "name": "stdout",
     "output_type": "stream",
     "text": [
      "<class 'pandas.core.frame.DataFrame'>\n",
      "Index: 30 entries, 0 to 29\n",
      "Data columns (total 2 columns):\n",
      " #   Column           Non-Null Count  Dtype  \n",
      "---  ------           --------------  -----  \n",
      " 0   YearsExperience  30 non-null     float64\n",
      " 1   Salary           30 non-null     float64\n",
      "dtypes: float64(2)\n",
      "memory usage: 720.0 bytes\n"
     ]
    }
   ],
   "source": [
    "salary.info()"
   ]
  },
  {
   "cell_type": "code",
   "execution_count": 6,
   "id": "42a966d7",
   "metadata": {
    "execution": {
     "iopub.execute_input": "2024-08-23T22:19:12.957272Z",
     "iopub.status.busy": "2024-08-23T22:19:12.956809Z",
     "iopub.status.idle": "2024-08-23T22:19:12.977966Z",
     "shell.execute_reply": "2024-08-23T22:19:12.976628Z"
    },
    "papermill": {
     "duration": 0.032189,
     "end_time": "2024-08-23T22:19:12.980441",
     "exception": false,
     "start_time": "2024-08-23T22:19:12.948252",
     "status": "completed"
    },
    "tags": []
   },
   "outputs": [
    {
     "data": {
      "text/html": [
       "<div>\n",
       "<style scoped>\n",
       "    .dataframe tbody tr th:only-of-type {\n",
       "        vertical-align: middle;\n",
       "    }\n",
       "\n",
       "    .dataframe tbody tr th {\n",
       "        vertical-align: top;\n",
       "    }\n",
       "\n",
       "    .dataframe thead th {\n",
       "        text-align: right;\n",
       "    }\n",
       "</style>\n",
       "<table border=\"1\" class=\"dataframe\">\n",
       "  <thead>\n",
       "    <tr style=\"text-align: right;\">\n",
       "      <th></th>\n",
       "      <th>YearsExperience</th>\n",
       "      <th>Salary</th>\n",
       "    </tr>\n",
       "  </thead>\n",
       "  <tbody>\n",
       "    <tr>\n",
       "      <th>count</th>\n",
       "      <td>30.000000</td>\n",
       "      <td>30.000000</td>\n",
       "    </tr>\n",
       "    <tr>\n",
       "      <th>mean</th>\n",
       "      <td>5.413333</td>\n",
       "      <td>76004.000000</td>\n",
       "    </tr>\n",
       "    <tr>\n",
       "      <th>std</th>\n",
       "      <td>2.837888</td>\n",
       "      <td>27414.429785</td>\n",
       "    </tr>\n",
       "    <tr>\n",
       "      <th>min</th>\n",
       "      <td>1.200000</td>\n",
       "      <td>37732.000000</td>\n",
       "    </tr>\n",
       "    <tr>\n",
       "      <th>25%</th>\n",
       "      <td>3.300000</td>\n",
       "      <td>56721.750000</td>\n",
       "    </tr>\n",
       "    <tr>\n",
       "      <th>50%</th>\n",
       "      <td>4.800000</td>\n",
       "      <td>65238.000000</td>\n",
       "    </tr>\n",
       "    <tr>\n",
       "      <th>75%</th>\n",
       "      <td>7.800000</td>\n",
       "      <td>100545.750000</td>\n",
       "    </tr>\n",
       "    <tr>\n",
       "      <th>max</th>\n",
       "      <td>10.600000</td>\n",
       "      <td>122392.000000</td>\n",
       "    </tr>\n",
       "  </tbody>\n",
       "</table>\n",
       "</div>"
      ],
      "text/plain": [
       "       YearsExperience         Salary\n",
       "count        30.000000      30.000000\n",
       "mean          5.413333   76004.000000\n",
       "std           2.837888   27414.429785\n",
       "min           1.200000   37732.000000\n",
       "25%           3.300000   56721.750000\n",
       "50%           4.800000   65238.000000\n",
       "75%           7.800000  100545.750000\n",
       "max          10.600000  122392.000000"
      ]
     },
     "execution_count": 6,
     "metadata": {},
     "output_type": "execute_result"
    }
   ],
   "source": [
    "salary.describe()"
   ]
  },
  {
   "cell_type": "markdown",
   "id": "504e23aa",
   "metadata": {
    "papermill": {
     "duration": 0.007126,
     "end_time": "2024-08-23T22:19:12.995333",
     "exception": false,
     "start_time": "2024-08-23T22:19:12.988207",
     "status": "completed"
    },
    "tags": []
   },
   "source": [
    "## **visulize**"
   ]
  },
  {
   "cell_type": "code",
   "execution_count": 7,
   "id": "131d4132",
   "metadata": {
    "execution": {
     "iopub.execute_input": "2024-08-23T22:19:13.012661Z",
     "iopub.status.busy": "2024-08-23T22:19:13.011696Z",
     "iopub.status.idle": "2024-08-23T22:19:13.321494Z",
     "shell.execute_reply": "2024-08-23T22:19:13.320306Z"
    },
    "papermill": {
     "duration": 0.321403,
     "end_time": "2024-08-23T22:19:13.324169",
     "exception": false,
     "start_time": "2024-08-23T22:19:13.002766",
     "status": "completed"
    },
    "tags": []
   },
   "outputs": [
    {
     "data": {
      "text/plain": [
       "<matplotlib.collections.PathCollection at 0x7a25b2e1a200>"
      ]
     },
     "execution_count": 7,
     "metadata": {},
     "output_type": "execute_result"
    },
    {
     "data": {
      "image/png": "[encoded data removed]",
      "text/plain": [
       "<Figure size 640x480 with 1 Axes>"
      ]
     },
     "metadata": {},
     "output_type": "display_data"
    }
   ],
   "source": [
    "plt.scatter(salary['YearsExperience'],salary['Salary'])"
   ]
  },
  {
   "cell_type": "code",
   "execution_count": 8,
   "id": "945ed1c5",
   "metadata": {
    "execution": {
     "iopub.execute_input": "2024-08-23T22:19:13.342223Z",
     "iopub.status.busy": "2024-08-23T22:19:13.341724Z",
     "iopub.status.idle": "2024-08-23T22:19:13.625394Z",
     "shell.execute_reply": "2024-08-23T22:19:13.624061Z"
    },
    "papermill": {
     "duration": 0.296173,
     "end_time": "2024-08-23T22:19:13.628454",
     "exception": false,
     "start_time": "2024-08-23T22:19:13.332281",
     "status": "completed"
    },
    "tags": []
   },
   "outputs": [
    {
     "data": {
      "image/png": "[encoded data removed]",
      "text/plain": [
       "<Figure size 1200x600 with 2 Axes>"
      ]
     },
     "metadata": {},
     "output_type": "display_data"
    }
   ],
   "source": [
    "plt.figure(figsize=(12, 6))\n",
    "sns.heatmap(salary.corr(),annot=True)\n",
    "plt.show()"
   ]
  },
  {
   "cell_type": "markdown",
   "id": "d4aa51b9",
   "metadata": {
    "papermill": {
     "duration": 0.008278,
     "end_time": "2024-08-23T22:19:13.645573",
     "exception": false,
     "start_time": "2024-08-23T22:19:13.637295",
     "status": "completed"
    },
    "tags": []
   },
   "source": [
    "## **Define feature and Target**"
   ]
  },
  {
   "cell_type": "markdown",
   "id": "139a5be1",
   "metadata": {
    "papermill": {
     "duration": 0.008502,
     "end_time": "2024-08-23T22:19:13.662549",
     "exception": false,
     "start_time": "2024-08-23T22:19:13.654047",
     "status": "completed"
    },
    "tags": []
   },
   "source": [
    "### split data"
   ]
  },
  {
   "cell_type": "code",
   "execution_count": 9,
   "id": "1d65c6eb",
   "metadata": {
    "execution": {
     "iopub.execute_input": "2024-08-23T22:19:13.683111Z",
     "iopub.status.busy": "2024-08-23T22:19:13.682247Z",
     "iopub.status.idle": "2024-08-23T22:19:13.689938Z",
     "shell.execute_reply": "2024-08-23T22:19:13.688738Z"
    },
    "papermill": {
     "duration": 0.020864,
     "end_time": "2024-08-23T22:19:13.692578",
     "exception": false,
     "start_time": "2024-08-23T22:19:13.671714",
     "status": "completed"
    },
    "tags": []
   },
   "outputs": [],
   "source": [
    "X=salary[['YearsExperience']]\n",
    "y=salary[['Salary']]"
   ]
  },
  {
   "cell_type": "markdown",
   "id": "dfe3e70b",
   "metadata": {
    "papermill": {
     "duration": 0.008292,
     "end_time": "2024-08-23T22:19:13.709952",
     "exception": false,
     "start_time": "2024-08-23T22:19:13.701660",
     "status": "completed"
    },
    "tags": []
   },
   "source": [
    "## **Bulid Model**"
   ]
  },
  {
   "cell_type": "code",
   "execution_count": 10,
   "id": "a56fb438",
   "metadata": {
    "execution": {
     "iopub.execute_input": "2024-08-23T22:19:13.728838Z",
     "iopub.status.busy": "2024-08-23T22:19:13.728374Z",
     "iopub.status.idle": "2024-08-23T22:19:13.754132Z",
     "shell.execute_reply": "2024-08-23T22:19:13.752957Z"
    },
    "papermill": {
     "duration": 0.038254,
     "end_time": "2024-08-23T22:19:13.756666",
     "exception": false,
     "start_time": "2024-08-23T22:19:13.718412",
     "status": "completed"
    },
    "tags": []
   },
   "outputs": [
    {
     "data": {
      "text/html": [
       "<style>#sk-container-id-1 {color: black;background-color: white;}#sk-container-id-1 pre{padding: 0;}#sk-container-id-1 div.sk-toggleable {background-color: white;}#sk-container-id-1 label.sk-toggleable__label {cursor: pointer;display: block;width: 100%;margin-bottom: 0;padding: 0.3em;box-sizing: border-box;text-align: center;}#sk-container-id-1 label.sk-toggleable__label-arrow:before {content: \"▸\";float: left;margin-right: 0.25em;color: #696969;}#sk-container-id-1 label.sk-toggleable__label-arrow:hover:before {color: black;}#sk-container-id-1 div.sk-estimator:hover label.sk-toggleable__label-arrow:before {color: black;}#sk-container-id-1 div.sk-toggleable__content {max-height: 0;max-width: 0;overflow: hidden;text-align: left;background-color: #f0f8ff;}#sk-container-id-1 div.sk-toggleable__content pre {margin: 0.2em;color: black;border-radius: 0.25em;background-color: #f0f8ff;}#sk-container-id-1 input.sk-toggleable__control:checked~div.sk-toggleable__content {max-height: 200px;max-width: 100%;overflow: auto;}#sk-container-id-1 input.sk-toggleable__control:checked~label.sk-toggleable__label-arrow:before {content: \"▾\";}#sk-container-id-1 div.sk-estimator input.sk-toggleable__control:checked~label.sk-toggleable__label {background-color: #d4ebff;}#sk-container-id-1 div.sk-label input.sk-toggleable__control:checked~label.sk-toggleable__label {background-color: #d4ebff;}#sk-container-id-1 input.sk-hidden--visually {border: 0;clip: rect(1px 1px 1px 1px);clip: rect(1px, 1px, 1px, 1px);height: 1px;margin: -1px;overflow: hidden;padding: 0;position: absolute;width: 1px;}#sk-container-id-1 div.sk-estimator {font-family: monospace;background-color: #f0f8ff;border: 1px dotted black;border-radius: 0.25em;box-sizing: border-box;margin-bottom: 0.5em;}#sk-container-id-1 div.sk-estimator:hover {background-color: #d4ebff;}#sk-container-id-1 div.sk-parallel-item::after {content: \"\";width: 100%;border-bottom: 1px solid gray;flex-grow: 1;}#sk-container-id-1 div.sk-label:hover label.sk-toggleable__label {background-color: #d4ebff;}#sk-container-id-1 div.sk-serial::before {content: \"\";position: absolute;border-left: 1px solid gray;box-sizing: border-box;top: 0;bottom: 0;left: 50%;z-index: 0;}#sk-container-id-1 div.sk-serial {display: flex;flex-direction: column;align-items: center;background-color: white;padding-right: 0.2em;padding-left: 0.2em;position: relative;}#sk-container-id-1 div.sk-item {position: relative;z-index: 1;}#sk-container-id-1 div.sk-parallel {display: flex;align-items: stretch;justify-content: center;background-color: white;position: relative;}#sk-container-id-1 div.sk-item::before, #sk-container-id-1 div.sk-parallel-item::before {content: \"\";position: absolute;border-left: 1px solid gray;box-sizing: border-box;top: 0;bottom: 0;left: 50%;z-index: -1;}#sk-container-id-1 div.sk-parallel-item {display: flex;flex-direction: column;z-index: 1;position: relative;background-color: white;}#sk-container-id-1 div.sk-parallel-item:first-child::after {align-self: flex-end;width: 50%;}#sk-container-id-1 div.sk-parallel-item:last-child::after {align-self: flex-start;width: 50%;}#sk-container-id-1 div.sk-parallel-item:only-child::after {width: 0;}#sk-container-id-1 div.sk-dashed-wrapped {border: 1px dashed gray;margin: 0 0.4em 0.5em 0.4em;box-sizing: border-box;padding-bottom: 0.4em;background-color: white;}#sk-container-id-1 div.sk-label label {font-family: monospace;font-weight: bold;display: inline-block;line-height: 1.2em;}#sk-container-id-1 div.sk-label-container {text-align: center;}#sk-container-id-1 div.sk-container {/* jupyter's `normalize.less` sets `[hidden] { display: none; }` but bootstrap.min.css set `[hidden] { display: none !important; }` so we also need the `!important` here to be able to override the default hidden behavior on the sphinx rendered scikit-learn.org. See: https://github.com/scikit-learn/scikit-learn/issues/21755 */display: inline-block !important;position: relative;}#sk-container-id-1 div.sk-text-repr-fallback {display: none;}</style><div id=\"sk-container-id-1\" class=\"sk-top-container\"><div class=\"sk-text-repr-fallback\"><pre>LinearRegression()</pre><b>In a Jupyter environment, please rerun this cell to show the HTML representation or trust the notebook. <br />On GitHub, the HTML representation is unable to render, please try loading this page with nbviewer.org.</b></div><div class=\"sk-container\" hidden><div class=\"sk-item\"><div class=\"sk-estimator sk-toggleable\"><input class=\"sk-toggleable__control sk-hidden--visually\" id=\"sk-estimator-id-1\" type=\"checkbox\" checked><label for=\"sk-estimator-id-1\" class=\"sk-toggleable__label sk-toggleable__label-arrow\">LinearRegression</label><div class=\"sk-toggleable__content\"><pre>LinearRegression()</pre></div></div></div></div></div>"
      ],
      "text/plain": [
       "LinearRegression()"
      ]
     },
     "execution_count": 10,
     "metadata": {},
     "output_type": "execute_result"
    }
   ],
   "source": [
    "LR=LinearRegression()\n",
    "LR.fit(X,y)"
   ]
  },
  {
   "cell_type": "code",
   "execution_count": 11,
   "id": "caa3971f",
   "metadata": {
    "execution": {
     "iopub.execute_input": "2024-08-23T22:19:13.776311Z",
     "iopub.status.busy": "2024-08-23T22:19:13.775830Z",
     "iopub.status.idle": "2024-08-23T22:19:13.787388Z",
     "shell.execute_reply": "2024-08-23T22:19:13.786256Z"
    },
    "papermill": {
     "duration": 0.024316,
     "end_time": "2024-08-23T22:19:13.789871",
     "exception": false,
     "start_time": "2024-08-23T22:19:13.765555",
     "status": "completed"
    },
    "tags": []
   },
   "outputs": [
    {
     "data": {
      "text/plain": [
       "0.9569566641435086"
      ]
     },
     "execution_count": 11,
     "metadata": {},
     "output_type": "execute_result"
    }
   ],
   "source": [
    "LR.score(X,y)"
   ]
  },
  {
   "cell_type": "code",
   "execution_count": 12,
   "id": "7257e5ea",
   "metadata": {
    "execution": {
     "iopub.execute_input": "2024-08-23T22:19:13.810732Z",
     "iopub.status.busy": "2024-08-23T22:19:13.809623Z",
     "iopub.status.idle": "2024-08-23T22:19:13.816921Z",
     "shell.execute_reply": "2024-08-23T22:19:13.815553Z"
    },
    "papermill": {
     "duration": 0.020465,
     "end_time": "2024-08-23T22:19:13.819459",
     "exception": false,
     "start_time": "2024-08-23T22:19:13.798994",
     "status": "completed"
    },
    "tags": []
   },
   "outputs": [],
   "source": [
    "y_pred=LR.predict(X)"
   ]
  },
  {
   "cell_type": "code",
   "execution_count": 13,
   "id": "5bcb80e1",
   "metadata": {
    "execution": {
     "iopub.execute_input": "2024-08-23T22:19:13.839231Z",
     "iopub.status.busy": "2024-08-23T22:19:13.838766Z",
     "iopub.status.idle": "2024-08-23T22:19:13.846757Z",
     "shell.execute_reply": "2024-08-23T22:19:13.845601Z"
    },
    "papermill": {
     "duration": 0.020825,
     "end_time": "2024-08-23T22:19:13.849334",
     "exception": false,
     "start_time": "2024-08-23T22:19:13.828509",
     "status": "completed"
    },
    "tags": []
   },
   "outputs": [
    {
     "name": "stdout",
     "output_type": "stream",
     "text": [
      "0.9569566641435086\n"
     ]
    }
   ],
   "source": [
    "print(r2_score(y,y_pred))"
   ]
  },
  {
   "cell_type": "code",
   "execution_count": 14,
   "id": "ba3b4698",
   "metadata": {
    "execution": {
     "iopub.execute_input": "2024-08-23T22:19:13.869903Z",
     "iopub.status.busy": "2024-08-23T22:19:13.869433Z",
     "iopub.status.idle": "2024-08-23T22:19:14.146772Z",
     "shell.execute_reply": "2024-08-23T22:19:14.145654Z"
    },
    "papermill": {
     "duration": 0.291463,
     "end_time": "2024-08-23T22:19:14.150034",
     "exception": false,
     "start_time": "2024-08-23T22:19:13.858571",
     "status": "completed"
    },
    "tags": []
   },
   "outputs": [
    {
     "data": {
      "text/plain": [
       "[<matplotlib.lines.Line2D at 0x7a25b09b4be0>]"
      ]
     },
     "execution_count": 14,
     "metadata": {},
     "output_type": "execute_result"
    },
    {
     "data": {
      "image/png": "[encoded data removed]",
      "text/plain": [
       "<Figure size 640x480 with 1 Axes>"
      ]
     },
     "metadata": {},
     "output_type": "display_data"
    }
   ],
   "source": [
    "plt.scatter(X,y,color='r')\n",
    "plt.plot(X,y_pred,color='b')"
   ]
  }
 ],
 "metadata": {
  "kaggle": {
   "accelerator": "none",
   "dataSources": [
    {
     "datasetId": 2799910,
     "sourceId": 4832081,
     "sourceType": "datasetVersion"
    }
   ],
   "dockerImageVersionId": 30761,
   "isGpuEnabled": false,
   "isInternetEnabled": true,
   "language": "python",
   "sourceType": "notebook"
  },
  "kernelspec": {
   "display_name": "Python 3",
   "language": "python",
   "name": "python3"
  },
  "language_info": {
   "codemirror_mode": {
    "name": "ipython",
    "version": 3
   },
   "file_extension": ".py",
   "mimetype": "text/x-python",
   "name": "python",
   "nbconvert_exporter": "python",
   "pygments_lexer": "ipython3",
   "version": "3.10.14"
  },
  "papermill": {
   "default_parameters": {},
   "duration": 8.59088,
   "end_time": "2024-08-23T22:19:14.881816",
   "environment_variables": {},
   "exception": null,
   "input_path": "__notebook__.ipynb",
   "output_path": "__notebook__.ipynb",
   "parameters": {},
   "start_time": "2024-08-23T22:19:06.290936",
   "version": "2.6.0"
  }
 },
 "nbformat": 4,
 "nbformat_minor": 5
}
